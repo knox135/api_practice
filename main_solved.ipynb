{
 "cells": [
  {
   "cell_type": "code",
   "execution_count": 1,
   "metadata": {},
   "outputs": [
    {
     "name": "stdout",
     "output_type": "stream",
     "text": [
      "Requirement already satisfied: pygovee in c:\\users\\nick\\.conda\\envs\\dev\\lib\\site-packages (1.0.2)\n",
      "Requirement already satisfied: requests in c:\\users\\nick\\.conda\\envs\\dev\\lib\\site-packages (from pygovee) (2.31.0)\n",
      "Requirement already satisfied: charset-normalizer<4,>=2 in c:\\users\\nick\\.conda\\envs\\dev\\lib\\site-packages (from requests->pygovee) (2.0.4)\n",
      "Requirement already satisfied: idna<4,>=2.5 in c:\\users\\nick\\.conda\\envs\\dev\\lib\\site-packages (from requests->pygovee) (3.4)\n",
      "Requirement already satisfied: urllib3<3,>=1.21.1 in c:\\users\\nick\\.conda\\envs\\dev\\lib\\site-packages (from requests->pygovee) (2.0.7)\n",
      "Requirement already satisfied: certifi>=2017.4.17 in c:\\users\\nick\\.conda\\envs\\dev\\lib\\site-packages (from requests->pygovee) (2024.7.4)\n"
     ]
    }
   ],
   "source": [
    "# install pygovee\n",
    "!pip install pygovee"
   ]
  },
  {
   "cell_type": "code",
   "execution_count": null,
   "metadata": {},
   "outputs": [],
   "source": [
    "# Import requirements\n",
    "from pygovee import Govee\n",
    "\n",
    "# Create client variable using Govee.Goveeclient\n",
    "client = Govee.GoveeClient(apiKey=\"your api key here\")\n",
    "\n",
    "# login using client.login\n",
    "client.login()"
   ]
  },
  {
   "cell_type": "code",
   "execution_count": null,
   "metadata": {},
   "outputs": [],
   "source": [
    "# Get Device List \n",
    "client.get_device_list()"
   ]
  },
  {
   "cell_type": "code",
   "execution_count": null,
   "metadata": {},
   "outputs": [],
   "source": [
    "# Set light_address variable\n",
    "light_address = 'enter Device Address'\n",
    "# Set light_name variable\n",
    "light_name = 'enter Device Model'"
   ]
  },
  {
   "cell_type": "code",
   "execution_count": null,
   "metadata": {},
   "outputs": [],
   "source": [
    "# Turn Lights on/off\n",
    "client.device_on(light_address,light_name)\n",
    "client.device_off(light_address,light_name)"
   ]
  },
  {
   "cell_type": "code",
   "execution_count": null,
   "metadata": {},
   "outputs": [],
   "source": [
    "# Change Brightness\n",
    "client.change_device_brightness(light_address,light_name)"
   ]
  },
  {
   "cell_type": "markdown",
   "metadata": {},
   "source": [
    "Rest Api Usage"
   ]
  },
  {
   "cell_type": "code",
   "execution_count": 3,
   "metadata": {},
   "outputs": [
    {
     "name": "stdout",
     "output_type": "stream",
     "text": [
      "<Response [401]>\n"
     ]
    }
   ],
   "source": [
    "# Set API endpoint URL\n",
    "url = 'https://developer-api.govee.com/v1/devices/'\n",
    "api = 'your api key here'\n",
    "response = requests.get(url + api)\n",
    "print(response)"
   ]
  },
  {
   "cell_type": "markdown",
   "metadata": {},
   "source": [
    "All device interaction revolves around device objects. Available devices when the client initialization occurs are stored in GoveeClient.devices"
   ]
  },
  {
   "cell_type": "code",
   "execution_count": null,
   "metadata": {},
   "outputs": [],
   "source": [
    "# Toggle lights power\n",
    "devices.capabilities.toggle()"
   ]
  },
  {
   "cell_type": "code",
   "execution_count": null,
   "metadata": {},
   "outputs": [],
   "source": [
    "# Use set_brightness method to set lights to your brightness preference (0 - 100)\n",
    "devices.capabilities.range()"
   ]
  },
  {
   "cell_type": "markdown",
   "metadata": {},
   "source": [
    "Set colors for lights"
   ]
  }
 ],
 "metadata": {
  "kernelspec": {
   "display_name": "dev",
   "language": "python",
   "name": "python3"
  },
  "language_info": {
   "codemirror_mode": {
    "name": "ipython",
    "version": 3
   },
   "file_extension": ".py",
   "mimetype": "text/x-python",
   "name": "python",
   "nbconvert_exporter": "python",
   "pygments_lexer": "ipython3",
   "version": "3.10.14"
  }
 },
 "nbformat": 4,
 "nbformat_minor": 2
}
